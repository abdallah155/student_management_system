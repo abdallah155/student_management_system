{
  "nbformat": 4,
  "nbformat_minor": 0,
  "metadata": {
    "colab": {
      "provenance": []
    },
    "kernelspec": {
      "name": "python3",
      "display_name": "Python 3"
    },
    "language_info": {
      "name": "python"
    }
  },
  "cells": [
    {
      "cell_type": "code",
      "source": [
        "import logging\n",
        "logging.basicConfig(filename='error.log', level=logging.ERROR, format='%(asctime)s - %(levelname)s - %(message)s')\n"
      ],
      "metadata": {
        "id": "SzWDqodLzsGQ"
      },
      "execution_count": 147,
      "outputs": []
    },
    {
      "cell_type": "code",
      "source": [
        "def name()->str:\n",
        "  while True:# name\n",
        "    try:\n",
        "      name = str(input('Enter student name: '))\n",
        "      if name.isalpha()== 0:\n",
        "        raise ValueError(\"Wrong value, Enter a sequence of characters !!\")\n",
        "      break\n",
        "    except ValueError as e:\n",
        "      print(e)\n",
        "  return name\n"
      ],
      "metadata": {
        "id": "o4QF_F24JIuv"
      },
      "execution_count": 148,
      "outputs": []
    },
    {
      "cell_type": "code",
      "source": [
        "def age()->int:\n",
        "  while True:# age\n",
        "    try:\n",
        "      age = int(input('Enter age: '))\n",
        "      if age < 18 or age > 30:\n",
        "        raise ValueError(\"Wrong value, Enter a valid age from 18 to 30!!\")\n",
        "      break\n",
        "    except ValueError as e:\n",
        "      print(e)\n",
        "  return age"
      ],
      "metadata": {
        "id": "RJgVVeMCK9E9"
      },
      "execution_count": 149,
      "outputs": []
    },
    {
      "cell_type": "code",
      "source": [
        "def grade()->int:\n",
        "  while True:# grade\n",
        "    try:\n",
        "      grade = float(input('Enter grade from 0-4: '))\n",
        "      if grade < 0 or grade > 4:\n",
        "        raise ValueError(\"Wrong value, Enter a valid grade !!\")\n",
        "      break\n",
        "    except ValueError as e:\n",
        "      print(e)\n",
        "  return grade"
      ],
      "metadata": {
        "id": "aq29nbb3LVMC"
      },
      "execution_count": 150,
      "outputs": []
    },
    {
      "cell_type": "code",
      "source": [
        "def info()->str:\n",
        "  while True:# info\n",
        "    try:\n",
        "      contact_info = str(input('Enter student telephone/mobile number: '))\n",
        "      if not contact_info.isdigit():\n",
        "        raise TypeError(\"Wrong type, Enter a sequence of digits !!\")\n",
        "      if len(contact_info) < 10 or len(contact_info) > 12:\n",
        "        raise ValueError(\"Wrong Value, Enter a correct length from 10 to 12 digits1\")\n",
        "      break\n",
        "    except TypeError as TE:\n",
        "      print(TE)\n",
        "    except ValueError as VE:\n",
        "      print(VE)\n",
        "  return contact_info\n"
      ],
      "metadata": {
        "id": "LWSC09F0NbJw"
      },
      "execution_count": 151,
      "outputs": []
    },
    {
      "cell_type": "code",
      "source": [
        "def option1(self):\n",
        "    name1 = name()\n",
        "    age1 = age()\n",
        "    grade1 = grade()\n",
        "    contact_info1 = info()\n",
        "    stud = Student(name1,age1,grade1,contact_info1)\n",
        "    self.list_of_studnets.append(stud)"
      ],
      "metadata": {
        "id": "WUuCQpHvuNsp"
      },
      "execution_count": 152,
      "outputs": []
    },
    {
      "cell_type": "code",
      "source": [
        "def option2(self):\n",
        "  assert bool(self.list_of_studnets), \"list  of students are empty\"\n",
        "  for student in self.list_of_studnets:\n",
        "    student.display()\n"
      ],
      "metadata": {
        "id": "pwcyLETxvDJ3"
      },
      "execution_count": 153,
      "outputs": []
    },
    {
      "cell_type": "code",
      "source": [
        "def option3(self,n):\n",
        "   assert bool(self.list_of_studnets), \"list  of students are empty\"\n",
        "   print(f'number of students = {n}')\n",
        "   num = int(input(f'which student to update enter student number within range from 1 to {n}: '))\n",
        "   for x in range(n):\n",
        "      if num == x+1:\n",
        "        self.list_of_studnets[x].update_student()"
      ],
      "metadata": {
        "id": "VQTGYxw6vh6Q"
      },
      "execution_count": 154,
      "outputs": []
    },
    {
      "cell_type": "code",
      "source": [
        "class Student:\n",
        "  def __init__(self,name, age, grade,contact_info):\n",
        "    self.name = name\n",
        "    self.age = age\n",
        "    self.grade = grade\n",
        "    self.contact_info = contact_info\n",
        "  def update_student(self):\n",
        "    print('if you want to update student name enter a new name: ')\n",
        "    self.name = name()\n",
        "    print('if you want to update student age enter a new number: ')\n",
        "    self.age = age()\n",
        "    print('if you want to update student grade enter a new gpa from 0 to 4: ')\n",
        "    self.grade = grade()\n",
        "    print('if you want to update student contact_info enter a new mobile number/telephone: ')\n",
        "    self.contact_info = info()\n",
        "  def display(self):\n",
        "    print(f'student name is: {self.name}')\n",
        "    print(f'student age is: {self.age}')\n",
        "    print(f'student grade is: {self.grade}')\n",
        "    print(f'student contact information is: {self.contact_info}')\n",
        "    print('-------------------------------------------------------------------------------')\n",
        "\n",
        "\n"
      ],
      "metadata": {
        "id": "LVcNWAmGZTCs"
      },
      "execution_count": 155,
      "outputs": []
    },
    {
      "cell_type": "code",
      "execution_count": 156,
      "metadata": {
        "id": "CtybbYhDSjcP"
      },
      "outputs": [],
      "source": [
        "class CLI():\n",
        "\n",
        " def __init__(self):\n",
        "  self.list_of_studnets = []\n",
        "\n",
        "\n",
        " def interface(self):\n",
        "    num_of_students = 0\n",
        "    while True:\n",
        "\n",
        "      print('options:')\n",
        "      print('1-Add new student: ')\n",
        "      print('2-display student details: ')\n",
        "      print('3-update student details: ')\n",
        "      print('4-Exit')\n",
        "      try:\n",
        "        options = int(input('enter number between 1 and 4: '))\n",
        "        if options < 1 or options > 4:\n",
        "          raise ValueError(\"Wrong value, Try again !!\")\n",
        "        else:\n",
        "          print(\"successful\")\n",
        "          num_of_students = len(self.list_of_studnets)\n",
        "          if options == 1:\n",
        "            option1(self)\n",
        "          elif options == 2:\n",
        "            option2(self)\n",
        "          elif options == 3:\n",
        "            option3(self,num_of_students)\n",
        "          else:\n",
        "            break\n",
        "      except ValueError as e:\n",
        "        print(e)\n"
      ]
    },
    {
      "cell_type": "code",
      "source": [
        "if __name__ =='__main__':\n",
        "  try:\n",
        "    command = CLI()\n",
        "    command.interface()\n",
        "  except Exception as e:\n",
        "    logging.error(\"An error occurred: %s\", str(e))\n"
      ],
      "metadata": {
        "colab": {
          "base_uri": "https://localhost:8080/"
        },
        "id": "C-38RLk8Cuwj",
        "outputId": "ccc0eee5-fd4e-4fa2-8fbe-bdf8c0cbf62f"
      },
      "execution_count": 158,
      "outputs": [
        {
          "name": "stdout",
          "output_type": "stream",
          "text": [
            "options:\n",
            "1-Add new student: \n",
            "2-display student details: \n",
            "3-update student details: \n",
            "4-Exit\n",
            "enter number between 1 and 4: 3\n"
          ]
        },
        {
          "output_type": "stream",
          "name": "stderr",
          "text": [
            "ERROR:root:An error occurred: list  of students are empty\n"
          ]
        },
        {
          "output_type": "stream",
          "name": "stdout",
          "text": [
            "successful\n"
          ]
        }
      ]
    },
    {
      "cell_type": "code",
      "source": [],
      "metadata": {
        "id": "tRY2qN8k0uNc"
      },
      "execution_count": null,
      "outputs": []
    }
  ]
}